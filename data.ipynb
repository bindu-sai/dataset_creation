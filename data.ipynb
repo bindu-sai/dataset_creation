{
 "cells": [
  {
   "cell_type": "code",
   "execution_count": 43,
   "metadata": {},
   "outputs": [],
   "source": [
    "from textblob import TextBlob\n",
    "import tweepy\n",
    "import re\n",
    "import pandas as pd"
   ]
  },
  {
   "cell_type": "code",
   "execution_count": 44,
   "metadata": {},
   "outputs": [],
   "source": [
    "accessToken=\"1272053768067010562-fQTNkoduS347TE8qzpLh8mxiYcB8TC\"\n",
    "accessTokenSecret=\"8yBxCzXyKobVV42fewzBtjbXNXGmtzTuPUg61ZaJyqZoz\"\n",
    "consumerKey=\"QDj1hUwKFp3Hnux2muCSoB4B9\"\n",
    "consumerKeySecret=\"ZRA0FRiAPzNKghZDyvP93BZYRu7fC6maiTrWmXPL349e0Lorv6\""
   ]
  },
  {
   "cell_type": "code",
   "execution_count": 45,
   "metadata": {},
   "outputs": [],
   "source": [
    "auth=tweepy.OAuthHandler(consumerKey,consumerKeySecret)\n",
    "auth.set_access_token(accessToken,accessTokenSecret)\n",
    "api=tweepy.API(auth,wait_on_rate_limit=True)"
   ]
  },
  {
   "cell_type": "code",
   "execution_count": 46,
   "metadata": {},
   "outputs": [],
   "source": [
    "def cleanText(text):\n",
    "    text=re.sub('https?://[^\\s]+','',text)\n",
    "    text=re.sub('@[^\\s]+','',text)\n",
    "    text=re.sub(r'#','',text)\n",
    "    text=re.sub(r'RT[\\s]','',text)\n",
    "    text=re.sub('\\n',\"\",text)\n",
    "    return text"
   ]
  },
  {
   "cell_type": "code",
   "execution_count": 47,
   "metadata": {},
   "outputs": [],
   "source": [
    "numOfTweets= 1000\n",
    "searchWord=\"covid\"\n",
    "date_since=\"2020-07-01\"\n",
    "tweets=tweepy.Cursor(api.search, q=searchWord, lang='en',since=date_since,tweet_mode=\"extended\").items(numOfTweets)"
   ]
  },
  {
   "cell_type": "code",
   "execution_count": 48,
   "metadata": {},
   "outputs": [],
   "source": [
    "def getPolarity(text):\n",
    "    return TextBlob(text).sentiment.polarity"
   ]
  },
  {
   "cell_type": "code",
   "execution_count": 49,
   "metadata": {},
   "outputs": [],
   "source": [
    "def convert(Polarity):\n",
    "    if(Polarity==0):\n",
    "        return 0\n",
    "    elif(Polarity>0.01):\n",
    "        return 1\n",
    "    else:\n",
    "        return -1"
   ]
  },
  {
   "cell_type": "code",
   "execution_count": 50,
   "metadata": {},
   "outputs": [],
   "source": [
    "df=pd.DataFrame([tweet.full_text for tweet in tweets],columns=['Tweets'])\n",
    "df['Tweets']=df['Tweets'].apply(cleanText)\n",
    "df['Polarity']=df['Tweets'].apply(getPolarity)\n",
    "df['label']=df['Polarity'].apply(convert)\n",
    "df.drop_duplicates(keep=False,inplace=True) "
   ]
  },
  {
   "cell_type": "code",
   "execution_count": 51,
   "metadata": {},
   "outputs": [
    {
     "name": "stdout",
     "output_type": "stream",
     "text": [
      "                                                Tweets  Polarity  label\n",
      "6    To help slow the spread of COVID-19,  is partn...  0.050000      1\n",
      "8     fr tho🥳i still be thinking bout those damn ta...  0.700000      1\n",
      "9     Assistant professor Shana Stoddard is helping...  0.000000      0\n",
      "11    NEW: White House public tours to start again ...  0.045455      1\n",
      "12      Hahahaha! Where he’s being drafted I LOVE g...  0.058571      1\n",
      "..                                                 ...       ...    ...\n",
      "991   “​There was nobody coming, there was no help ...  0.000000      0\n",
      "993   💥💥SHOCK REPORT:Up to 90% of COVID-positive Am...  0.000000      0\n",
      "996   Statement from Wirral’s Director for Public H...  0.200000      1\n",
      "997  NEW  GUEST BLOG: What will RevenueRecovery req...  0.001263     -1\n",
      "999   Nicola Sturgeon announces a £25m transition t...  0.500000      1\n",
      "\n",
      "[526 rows x 3 columns]\n"
     ]
    }
   ],
   "source": [
    "print(df)"
   ]
  },
  {
   "cell_type": "code",
   "execution_count": 52,
   "metadata": {},
   "outputs": [],
   "source": [
    "df.to_excel(\"covid5.xls\")"
   ]
  },
  {
   "cell_type": "code",
   "execution_count": null,
   "metadata": {},
   "outputs": [],
   "source": []
  }
 ],
 "metadata": {
  "kernelspec": {
   "display_name": "Python 3",
   "language": "python",
   "name": "python3"
  },
  "language_info": {
   "codemirror_mode": {
    "name": "ipython",
    "version": 3
   },
   "file_extension": ".py",
   "mimetype": "text/x-python",
   "name": "python",
   "nbconvert_exporter": "python",
   "pygments_lexer": "ipython3",
   "version": "3.7.8"
  }
 },
 "nbformat": 4,
 "nbformat_minor": 4
}
